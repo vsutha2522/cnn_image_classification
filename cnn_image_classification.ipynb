{
 "cells": [
  {
   "cell_type": "code",
   "execution_count": 63,
   "id": "51a1440b-3eef-43dd-a1f3-c2e9ab6f01e2",
   "metadata": {},
   "outputs": [
    {
     "ename": "ImportError",
     "evalue": "cannot import name 'MaxPooling' from 'tensorflow.keras' (C:\\Users\\HUAWEI\\anaconda3\\envs\\DL\\lib\\site-packages\\keras\\api\\_v2\\keras\\__init__.py)",
     "output_type": "error",
     "traceback": [
      "\u001b[1;31m---------------------------------------------------------------------------\u001b[0m",
      "\u001b[1;31mImportError\u001b[0m                               Traceback (most recent call last)",
      "Cell \u001b[1;32mIn[63], line 3\u001b[0m\n\u001b[0;32m      1\u001b[0m \u001b[38;5;28;01mimport\u001b[39;00m \u001b[38;5;21;01mnumpy\u001b[39;00m \u001b[38;5;28;01mas\u001b[39;00m \u001b[38;5;21;01mnp\u001b[39;00m\n\u001b[0;32m      2\u001b[0m \u001b[38;5;28;01mimport\u001b[39;00m \u001b[38;5;21;01mtensorflow\u001b[39;00m \u001b[38;5;28;01mas\u001b[39;00m \u001b[38;5;21;01mtf\u001b[39;00m\n\u001b[1;32m----> 3\u001b[0m \u001b[38;5;28;01mfrom\u001b[39;00m \u001b[38;5;21;01mtensorflow\u001b[39;00m\u001b[38;5;21;01m.\u001b[39;00m\u001b[38;5;21;01mkeras\u001b[39;00m \u001b[38;5;28;01mimport\u001b[39;00m datasets,layers,models,MaxPooling\n\u001b[0;32m      4\u001b[0m \u001b[38;5;28;01mimport\u001b[39;00m \u001b[38;5;21;01mmatplotlib\u001b[39;00m\u001b[38;5;21;01m.\u001b[39;00m\u001b[38;5;21;01mpyplot\u001b[39;00m \u001b[38;5;28;01mas\u001b[39;00m \u001b[38;5;21;01mplt\u001b[39;00m\n",
      "\u001b[1;31mImportError\u001b[0m: cannot import name 'MaxPooling' from 'tensorflow.keras' (C:\\Users\\HUAWEI\\anaconda3\\envs\\DL\\lib\\site-packages\\keras\\api\\_v2\\keras\\__init__.py)"
     ]
    }
   ],
   "source": [
    "\n",
    "import numpy as np\n",
    "import tensorflow as tf\n",
    "from tensorflow.keras import datasets,layers,models,MaxPooling\n",
    "import matplotlib.pyplot as plt\n"
   ]
  },
  {
   "cell_type": "code",
   "execution_count": 6,
   "id": "0516278f-46ea-496e-8520-ee6c22a868f8",
   "metadata": {},
   "outputs": [
    {
     "name": "stdout",
     "output_type": "stream",
     "text": [
      "Downloading data from https://www.cs.toronto.edu/~kriz/cifar-10-python.tar.gz\n",
      "170498071/170498071 [==============================] - 118s 1us/step\n"
     ]
    },
    {
     "data": {
      "text/plain": [
       "(50000, 32, 32, 3)"
      ]
     },
     "execution_count": 6,
     "metadata": {},
     "output_type": "execute_result"
    }
   ],
   "source": [
    "(x_train,y_train),(x_test,y_test)=datasets.cifar10.load_data()\n",
    "x_train.shape"
   ]
  },
  {
   "cell_type": "code",
   "execution_count": 7,
   "id": "305e523b-df6e-4ff4-b49b-0bd0533f3d5f",
   "metadata": {},
   "outputs": [
    {
     "data": {
      "text/plain": [
       "(50000, 1)"
      ]
     },
     "execution_count": 7,
     "metadata": {},
     "output_type": "execute_result"
    }
   ],
   "source": [
    "y_train.shape"
   ]
  },
  {
   "cell_type": "code",
   "execution_count": 10,
   "id": "92b42e26-c5ed-4f6d-8e98-32e446cdd7fe",
   "metadata": {},
   "outputs": [
    {
     "data": {
      "text/plain": [
       "array([[6],\n",
       "       [9],\n",
       "       [9],\n",
       "       [4],\n",
       "       [1]], dtype=uint8)"
      ]
     },
     "execution_count": 10,
     "metadata": {},
     "output_type": "execute_result"
    }
   ],
   "source": [
    "y_train[:5] # the output is 2d so it will change one dim "
   ]
  },
  {
   "cell_type": "code",
   "execution_count": 13,
   "id": "18eda05b-2985-4e60-a84e-d6134501f5c8",
   "metadata": {},
   "outputs": [
    {
     "data": {
      "text/plain": [
       "array([6, 9, 9, ..., 9, 1, 1], dtype=uint8)"
      ]
     },
     "execution_count": 13,
     "metadata": {},
     "output_type": "execute_result"
    }
   ],
   "source": [
    "y_train=y_train.reshape(-1,)\n",
    "y_train #1d"
   ]
  },
  {
   "cell_type": "code",
   "execution_count": 14,
   "id": "fa34af8d-5780-47fd-95cf-d7a12b56e26e",
   "metadata": {},
   "outputs": [],
   "source": [
    "classes=[\"airplane\",\"automobile\",\"bird\",\"cat\",\"deer\",\"dog\",\"frog\",\"horse\",\"ship\",\"truck\"]"
   ]
  },
  {
   "cell_type": "code",
   "execution_count": 15,
   "id": "3db5ee25-21d5-4ab9-983b-73295db51c40",
   "metadata": {},
   "outputs": [
    {
     "data": {
      "text/plain": [
       "'airplane'"
      ]
     },
     "execution_count": 15,
     "metadata": {},
     "output_type": "execute_result"
    }
   ],
   "source": [
    "classes[0]"
   ]
  },
  {
   "cell_type": "code",
   "execution_count": 18,
   "id": "27f083cd-d829-4665-bb67-a81519a1ab08",
   "metadata": {},
   "outputs": [],
   "source": [
    "def plot_sample(x,y,index):\n",
    "    plt.figure(figsize=(15,2))\n",
    "    plt.imshow(x[index])\n",
    "    plt.xlabel(classes[y[index]])"
   ]
  },
  {
   "cell_type": "code",
   "execution_count": 19,
   "id": "0b281822-70b8-4a9f-8846-1572524e9a0d",
   "metadata": {},
   "outputs": [
    {
     "data": {
      "image/png": "[encoded data removed]",
      "text/plain": [
       "<Figure size 1500x200 with 1 Axes>"
      ]
     },
     "metadata": {},
     "output_type": "display_data"
    }
   ],
   "source": [
    "plot_sample(x_train,y_train,0)"
   ]
  },
  {
   "cell_type": "code",
   "execution_count": 20,
   "id": "10a70a15-fd09-45aa-852c-0471fca3e0c8",
   "metadata": {},
   "outputs": [
    {
     "data": {
      "image/png": "[encoded data removed]",
      "text/plain": [
       "<Figure size 1500x200 with 1 Axes>"
      ]
     },
     "metadata": {},
     "output_type": "display_data"
    }
   ],
   "source": [
    "plot_sample(x_train,y_train,9)"
   ]
  },
  {
   "cell_type": "code",
   "execution_count": 21,
   "id": "af61beb5-e72a-428e-bd1f-8802e8e006f0",
   "metadata": {},
   "outputs": [],
   "source": [
    "x_train=x_train/255\n",
    "x_test=x_test/255"
   ]
  },
  {
   "cell_type": "code",
   "execution_count": 22,
   "id": "d0b1d287-0866-48f7-840c-814f58ff11f5",
   "metadata": {},
   "outputs": [
    {
     "data": {
      "text/plain": [
       "(50000, 32, 32, 3)"
      ]
     },
     "execution_count": 22,
     "metadata": {},
     "output_type": "execute_result"
    }
   ],
   "source": [
    "x_train.shape"
   ]
  },
  {
   "cell_type": "code",
   "execution_count": 31,
   "id": "919bd71f-e894-4880-98f2-934fb8118ae5",
   "metadata": {},
   "outputs": [],
   "source": [
    "cnn=models.Sequential([\n",
    "    #cnn\n",
    "    layers.Conv2D(filters=32,kernel_size=(3,3),activation=\"relu\",input_shape=(32,32,3)),\n",
    "    #layers.MaxPooling((2,2)),\n",
    "    tf.keras.layers.MaxPool2D((2,2),strides=None,padding=\"valid\"),\n",
    "    \n",
    "    layers.Conv2D(filters=64,kernel_size=(3,3),activation=\"relu\"),\n",
    "    tf.keras.layers.MaxPool2D((2,2),strides=None,padding=\"valid\"),\n",
    "                      \n",
    "\n",
    "    #ann\n",
    "    layers.Flatten(),\n",
    "    layers.Dense(64,activation=\"relu\"),\n",
    "    \n",
    "    layers.Dense(10,activation=\"softmax\"),\n",
    "])"
   ]
  },
  {
   "cell_type": "code",
   "execution_count": 33,
   "id": "3455e42d-0255-466d-8bf7-ef7f07ff6c96",
   "metadata": {},
   "outputs": [],
   "source": [
    "cnn.compile(optimizer=\"adam\",\n",
    "            loss=\"sparse_categorical_crossentropy\",\n",
    "            metrics=[\"accuracy\"])"
   ]
  },
  {
   "cell_type": "code",
   "execution_count": 34,
   "id": "4ad8625e-840a-4179-b3f2-caf6eaed36bb",
   "metadata": {},
   "outputs": [
    {
     "name": "stdout",
     "output_type": "stream",
     "text": [
      "Epoch 1/15\n",
      "1563/1563 [==============================] - 49s 30ms/step - loss: 1.5102 - accuracy: 0.4585\n",
      "Epoch 2/15\n",
      "1563/1563 [==============================] - 45s 29ms/step - loss: 1.1437 - accuracy: 0.5970\n",
      "Epoch 3/15\n",
      "1563/1563 [==============================] - 45s 29ms/step - loss: 1.0172 - accuracy: 0.6458\n",
      "Epoch 4/15\n",
      "1563/1563 [==============================] - 46s 29ms/step - loss: 0.9327 - accuracy: 0.6767\n",
      "Epoch 5/15\n",
      "1563/1563 [==============================] - 46s 30ms/step - loss: 0.8624 - accuracy: 0.7022\n",
      "Epoch 6/15\n",
      "1563/1563 [==============================] - 47s 30ms/step - loss: 0.8068 - accuracy: 0.7213\n",
      "Epoch 7/15\n",
      "1563/1563 [==============================] - 46s 29ms/step - loss: 0.7604 - accuracy: 0.7379\n",
      "Epoch 8/15\n",
      "1563/1563 [==============================] - 46s 30ms/step - loss: 0.7205 - accuracy: 0.7496\n",
      "Epoch 9/15\n",
      "1563/1563 [==============================] - 140s 89ms/step - loss: 0.6801 - accuracy: 0.7647\n",
      "Epoch 10/15\n",
      "1563/1563 [==============================] - 46s 29ms/step - loss: 0.6492 - accuracy: 0.7743\n",
      "Epoch 11/15\n",
      "1563/1563 [==============================] - 47s 30ms/step - loss: 0.6170 - accuracy: 0.7856\n",
      "Epoch 12/15\n",
      "1563/1563 [==============================] - 47s 30ms/step - loss: 0.5935 - accuracy: 0.7913\n",
      "Epoch 13/15\n",
      "1563/1563 [==============================] - 47s 30ms/step - loss: 0.5608 - accuracy: 0.8026\n",
      "Epoch 14/15\n",
      "1563/1563 [==============================] - 48s 31ms/step - loss: 0.5332 - accuracy: 0.8134\n",
      "Epoch 15/15\n",
      "1563/1563 [==============================] - 47s 30ms/step - loss: 0.5080 - accuracy: 0.8218\n"
     ]
    },
    {
     "data": {
      "text/plain": [
       "<keras.callbacks.History at 0x2f3079f5c90>"
      ]
     },
     "execution_count": 34,
     "metadata": {},
     "output_type": "execute_result"
    }
   ],
   "source": [
    "cnn.fit(x_train,y_train,epochs=15)"
   ]
  },
  {
   "cell_type": "code",
   "execution_count": 35,
   "id": "dc1cfda2-c132-4b31-9fa1-efb13ea7cc67",
   "metadata": {},
   "outputs": [
    {
     "name": "stdout",
     "output_type": "stream",
     "text": [
      "313/313 [==============================] - 4s 13ms/step - loss: 1.0044 - accuracy: 0.6940\n"
     ]
    },
    {
     "data": {
      "text/plain": [
       "[1.004397988319397, 0.6940000057220459]"
      ]
     },
     "execution_count": 35,
     "metadata": {},
     "output_type": "execute_result"
    }
   ],
   "source": [
    " cnn.evaluate(x_test,y_test)"
   ]
  },
  {
   "cell_type": "code",
   "execution_count": 36,
   "id": "1b0bd858-6260-4264-a842-77006e52db23",
   "metadata": {},
   "outputs": [
    {
     "data": {
      "text/plain": [
       "array([[3],\n",
       "       [8],\n",
       "       [8],\n",
       "       [0],\n",
       "       [6]], dtype=uint8)"
      ]
     },
     "execution_count": 36,
     "metadata": {},
     "output_type": "execute_result"
    }
   ],
   "source": [
    "y_test[:5]"
   ]
  },
  {
   "cell_type": "code",
   "execution_count": 37,
   "id": "6f4d990d-1760-4291-90de-dd051868a62f",
   "metadata": {},
   "outputs": [
    {
     "data": {
      "text/plain": [
       "array([3, 8, 8, 0, 6], dtype=uint8)"
      ]
     },
     "execution_count": 37,
     "metadata": {},
     "output_type": "execute_result"
    }
   ],
   "source": [
    "y_test=y_test.reshape(-1,)\n",
    "y_test[:5]"
   ]
  },
  {
   "cell_type": "code",
   "execution_count": 38,
   "id": "37f4e1aa-75d9-4060-a765-5f18d3c83413",
   "metadata": {},
   "outputs": [
    {
     "data": {
      "image/png": "[encoded data removed]",
      "text/plain": [
       "<Figure size 1500x200 with 1 Axes>"
      ]
     },
     "metadata": {},
     "output_type": "display_data"
    }
   ],
   "source": [
    "plot_sample(x_test,y_test,1)"
   ]
  },
  {
   "cell_type": "code",
   "execution_count": 39,
   "id": "a75e5e23-e6aa-447c-b63d-25c58d2cda5e",
   "metadata": {},
   "outputs": [
    {
     "name": "stdout",
     "output_type": "stream",
     "text": [
      "313/313 [==============================] - 4s 13ms/step\n"
     ]
    },
    {
     "data": {
      "text/plain": [
       "array([[1.2778359e-03, 5.8253700e-05, 1.6006673e-04, 8.8032389e-01,\n",
       "        4.3433844e-05, 8.0295578e-02, 3.7373111e-02, 6.4111432e-06,\n",
       "        4.0393358e-04, 5.7457750e-05],\n",
       "       [3.0755356e-03, 1.0621000e-01, 5.9116173e-06, 2.7141123e-09,\n",
       "        2.8880116e-09, 3.9586140e-11, 4.9620358e-10, 3.5145589e-10,\n",
       "        8.9058226e-01, 1.2638474e-04],\n",
       "       [2.8428431e-03, 7.7831753e-02, 7.1717968e-04, 1.1956683e-02,\n",
       "        2.2468492e-03, 6.7415048e-04, 2.5638432e-04, 1.7445225e-02,\n",
       "        6.6724110e-01, 2.1878785e-01],\n",
       "       [9.7709346e-01, 1.6162005e-03, 7.9233376e-03, 1.1008073e-03,\n",
       "        4.3853451e-03, 3.2680543e-06, 1.5172246e-06, 4.1624383e-04,\n",
       "        2.5261901e-03, 4.9337163e-03],\n",
       "       [4.2425473e-08, 2.8961932e-07, 5.9011334e-04, 2.0251273e-04,\n",
       "        5.5635270e-02, 4.5611472e-05, 9.4351488e-01, 7.6435043e-07,\n",
       "        2.7590470e-06, 7.6514279e-06]], dtype=float32)"
      ]
     },
     "execution_count": 39,
     "metadata": {},
     "output_type": "execute_result"
    }
   ],
   "source": [
    "y_pred=cnn.predict(x_test)\n",
    "y_pred[:5]"
   ]
  },
  {
   "cell_type": "markdown",
   "id": "8eaa4076-8acf-4a04-89d8-7468bbe7a13d",
   "metadata": {},
   "source": [
    "# how do find which is highest probability so we use argmax\n"
   ]
  },
  {
   "cell_type": "code",
   "execution_count": 45,
   "id": "93048a30-2945-4aab-8acf-3d0ea97c3756",
   "metadata": {},
   "outputs": [],
   "source": [
    "#y_classes=np.argmax(y_pred[0])"
   ]
  },
  {
   "cell_type": "code",
   "execution_count": 46,
   "id": "387ad936-0efe-4ec1-bf59-191459120602",
   "metadata": {},
   "outputs": [],
   "source": [
    "#y_classes"
   ]
  },
  {
   "cell_type": "code",
   "execution_count": 76,
   "id": "74d4b2dc-73bf-4844-a0e3-eba92b285d83",
   "metadata": {},
   "outputs": [
    {
     "data": {
      "text/plain": [
       "[3, 8, 8, 0, 6]"
      ]
     },
     "execution_count": 76,
     "metadata": {},
     "output_type": "execute_result"
    }
   ],
   "source": [
    "y_pred=[np.argmax(element) for element in y_pred]\n",
    "y_pred[:5]"
   ]
  },
  {
   "cell_type": "code",
   "execution_count": 77,
   "id": "4ce2b436-a096-44e6-9bd2-04417ee108f7",
   "metadata": {},
   "outputs": [
    {
     "data": {
      "text/plain": [
       "['airplane',\n",
       " 'automobile',\n",
       " 'bird',\n",
       " 'cat',\n",
       " 'deer',\n",
       " 'dog',\n",
       " 'frog',\n",
       " 'horse',\n",
       " 'ship',\n",
       " 'truck']"
      ]
     },
     "execution_count": 77,
     "metadata": {},
     "output_type": "execute_result"
    }
   ],
   "source": [
    "classes"
   ]
  },
  {
   "cell_type": "code",
   "execution_count": 78,
   "id": "5937601b-85c9-4948-8af8-8b76b096dde4",
   "metadata": {},
   "outputs": [
    {
     "data": {
      "text/plain": [
       "'airplane'"
      ]
     },
     "execution_count": 78,
     "metadata": {},
     "output_type": "execute_result"
    }
   ],
   "source": [
    "classes[y_pred[3]]"
   ]
  },
  {
   "cell_type": "code",
   "execution_count": 59,
   "id": "24650015-5858-4689-b96d-d4f242d3193b",
   "metadata": {},
   "outputs": [],
   "source": [
    "from sklearn.metrics import classification_report\n"
   ]
  },
  {
   "cell_type": "code",
   "execution_count": 79,
   "id": "a18fe53c-174f-4b3c-94fb-0168d6ac0534",
   "metadata": {},
   "outputs": [
    {
     "name": "stdout",
     "output_type": "stream",
     "text": [
      "classifiction report:\n",
      "               precision    recall  f1-score   support\n",
      "\n",
      "           0       0.69      0.75      0.72      1000\n",
      "           1       0.85      0.80      0.82      1000\n",
      "           2       0.63      0.51      0.56      1000\n",
      "           3       0.54      0.46      0.50      1000\n",
      "           4       0.57      0.72      0.63      1000\n",
      "           5       0.70      0.53      0.61      1000\n",
      "           6       0.74      0.77      0.76      1000\n",
      "           7       0.68      0.78      0.73      1000\n",
      "           8       0.83      0.78      0.80      1000\n",
      "           9       0.72      0.83      0.77      1000\n",
      "\n",
      "    accuracy                           0.69     10000\n",
      "   macro avg       0.70      0.69      0.69     10000\n",
      "weighted avg       0.70      0.69      0.69     10000\n",
      "\n"
     ]
    }
   ],
   "source": [
    "print(\"classifiction report:\\n\",classification_report(y_test,y_pred))"
   ]
  },
  {
   "cell_type": "code",
   "execution_count": 70,
   "id": "7b00023c-d3e1-45e8-909f-316b5eebcac9",
   "metadata": {},
   "outputs": [
    {
     "data": {
      "image/png": "[encoded data removed]",
      "text/plain": [
       "<Figure size 1500x200 with 1 Axes>"
      ]
     },
     "metadata": {},
     "output_type": "display_data"
    }
   ],
   "source": [
    "plot_sample(x_train,y_train,3)"
   ]
  },
  {
   "cell_type": "code",
   "execution_count": 75,
   "id": "3c179d06-31bc-4729-88fc-878de1f5d3b6",
   "metadata": {},
   "outputs": [
    {
     "data": {
      "image/png": "[encoded data removed]",
      "text/plain": [
       "<Figure size 1500x200 with 1 Axes>"
      ]
     },
     "metadata": {},
     "output_type": "display_data"
    }
   ],
   "source": [
    "plot_sample(x_test,y_test,3)"
   ]
  },
  {
   "cell_type": "code",
   "execution_count": null,
   "id": "f297e82c-c63f-43eb-93d2-dbcd6acb76d8",
   "metadata": {},
   "outputs": [],
   "source": []
  }
 ],
 "metadata": {
  "kernelspec": {
   "display_name": "Python 3 (ipykernel)",
   "language": "python",
   "name": "python3"
  },
  "language_info": {
   "codemirror_mode": {
    "name": "ipython",
    "version": 3
   },
   "file_extension": ".py",
   "mimetype": "text/x-python",
   "name": "python",
   "nbconvert_exporter": "python",
   "pygments_lexer": "ipython3",
   "version": "3.10.14"
  }
 },
 "nbformat": 4,
 "nbformat_minor": 5
}
